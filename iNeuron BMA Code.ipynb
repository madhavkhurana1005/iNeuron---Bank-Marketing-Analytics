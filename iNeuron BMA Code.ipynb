{
 "cells": [
  {
   "cell_type": "code",
   "execution_count": 1,
   "metadata": {},
   "outputs": [],
   "source": [
    "# Importing libraries \n",
    "\n",
    "import pandas as pd\n",
    "from matplotlib import pyplot\n",
    "import numpy as np"
   ]
  },
  {
   "cell_type": "code",
   "execution_count": 111,
   "metadata": {},
   "outputs": [],
   "source": [
    "data = pd.read_csv(r\"C:\\Users\\HELLO\\Documents\\X -INTERNSHIPS\\iNeuron Internship\\bank-additional-full.csv\")  #Original Data\n",
    "subs_data = data.groupby('y').get_group('yes')                                       #Subs_data refers to Subscribers Data\n",
    "    \n",
    "# Defining functions\n",
    "    \n",
    "def count_values(data, column_name):\n",
    "    data_value_counts = data[column_name].value_counts().rename_axis(column_name).reset_index(name='count')\n",
    "    data_value_counts['percentage'] = (data_value_counts['count']/sum(data_value_counts['count']))*100\n",
    "    return data_value_counts\n",
    "    \n",
    "def leads_data(data, subs_data, column_name):\n",
    "    leads = count_values(subs_data, column_name)\n",
    "    leads['conversion %'] = (count_values(subs_data, column_name)['count']/count_values(data, column_name)['count'])*100\n",
    "    return leads[[column_name,'count','conversion %']]\n",
    "\n",
    "def get_chart(data, subs_data, column_name):\n",
    "    pyplot.style.use('seaborn-pastel')\n",
    "    pyplot.ylabel(column_name)\n",
    "    pyplot.xlabel('Total Count')\n",
    "    pyplot.barh(count_values(data, column_name)[column_name], count_values(data, column_name)['count'], label = \"Total Leads\", color = 'grey')\n",
    "    pyplot.barh(count_values(subs_data, column_name)[column_name], count_values(subs_data, column_name)['count'], color = 'purple', label = \"Total Subscriptions\")\n",
    "    pyplot.legend()\n",
    "    pyplot.tight_layout()\n",
    "        \n",
    "def detail_chart(data, column_name):\n",
    "    pyplot.style.use('seaborn-pastel')\n",
    "    pyplot.xlabel(column_name)\n",
    "    pyplot.ylabel('Total Count')\n",
    "    pyplot.bar(count_values(data, column_name)[column_name],count_values(data, column_name)['count'],edgecolor = 'black')\n",
    "    pyplot.tight_layout()\n",
    "        \n",
    "def describe_parameter(data, column_name):\n",
    "    return data[column_name].describe()\n",
    "    \n",
    "def get_pie(data, column_name):\n",
    "    pyplot.pie(count_values(data, column_name)['count'], labels = count_values(data, column_name)[column_name], wedgeprops = {'edgecolor' : 'grey'}, autopct = '%1.1f%%')\n",
    "    pyplot.title(\"Customers who subscribed to term Deposits\")\n",
    "    pyplot.tight_layout()\n",
    "        "
   ]
  },
  {
   "cell_type": "code",
   "execution_count": 157,
   "metadata": {
    "scrolled": false
   },
   "outputs": [
    {
     "name": "stdout",
     "output_type": "stream",
     "text": [
      "<class 'pandas.core.frame.DataFrame'>\n",
      "Int64Index: 4640 entries, 75 to 41186\n",
      "Data columns (total 21 columns):\n",
      " #   Column          Non-Null Count  Dtype  \n",
      "---  ------          --------------  -----  \n",
      " 0   age             4640 non-null   int64  \n",
      " 1   job             4640 non-null   object \n",
      " 2   marital         4640 non-null   object \n",
      " 3   education       4640 non-null   object \n",
      " 4   credit default  4640 non-null   object \n",
      " 5   housing loan    4640 non-null   object \n",
      " 6   personal loan   4640 non-null   object \n",
      " 7   contact         4640 non-null   object \n",
      " 8   month           4640 non-null   object \n",
      " 9   day_of_week     4640 non-null   object \n",
      " 10  duration (s)    4640 non-null   int64  \n",
      " 11  campaign        4640 non-null   int64  \n",
      " 12  past days       4640 non-null   int64  \n",
      " 13  previous        4640 non-null   int64  \n",
      " 14  poutcome        4640 non-null   object \n",
      " 15  emp.var.rate    4640 non-null   float64\n",
      " 16  cons.price.idx  4640 non-null   float64\n",
      " 17  cons.conf.idx   4640 non-null   float64\n",
      " 18  euribor3m       4640 non-null   float64\n",
      " 19  nr.employed     4640 non-null   float64\n",
      " 20  y               4640 non-null   object \n",
      "dtypes: float64(5), int64(5), object(11)\n",
      "memory usage: 598.1+ KB\n"
     ]
    }
   ],
   "source": [
    "# Overall Subscriber's Data Information\n",
    "subs_data.info()"
   ]
  },
  {
   "cell_type": "markdown",
   "metadata": {},
   "source": [
    "                                  SUBSCRIBER'S DESCRIPTION AND INSIGHTS\n",
    "                             "
   ]
  },
  {
   "cell_type": "code",
   "execution_count": 115,
   "metadata": {},
   "outputs": [],
   "source": [
    "# AGE ANALYTICS"
   ]
  },
  {
   "cell_type": "code",
   "execution_count": 161,
   "metadata": {
    "scrolled": true
   },
   "outputs": [
    {
     "data": {
      "text/html": [
       "<div>\n",
       "<style scoped>\n",
       "    .dataframe tbody tr th:only-of-type {\n",
       "        vertical-align: middle;\n",
       "    }\n",
       "\n",
       "    .dataframe tbody tr th {\n",
       "        vertical-align: top;\n",
       "    }\n",
       "\n",
       "    .dataframe thead th {\n",
       "        text-align: right;\n",
       "    }\n",
       "</style>\n",
       "<table border=\"1\" class=\"dataframe\">\n",
       "  <thead>\n",
       "    <tr style=\"text-align: right;\">\n",
       "      <th></th>\n",
       "      <th>age</th>\n",
       "      <th>count</th>\n",
       "      <th>percentage</th>\n",
       "    </tr>\n",
       "  </thead>\n",
       "  <tbody>\n",
       "    <tr>\n",
       "      <th>0</th>\n",
       "      <td>31</td>\n",
       "      <td>220</td>\n",
       "      <td>4.741379</td>\n",
       "    </tr>\n",
       "    <tr>\n",
       "      <th>1</th>\n",
       "      <td>33</td>\n",
       "      <td>210</td>\n",
       "      <td>4.525862</td>\n",
       "    </tr>\n",
       "    <tr>\n",
       "      <th>2</th>\n",
       "      <td>30</td>\n",
       "      <td>202</td>\n",
       "      <td>4.353448</td>\n",
       "    </tr>\n",
       "    <tr>\n",
       "      <th>3</th>\n",
       "      <td>29</td>\n",
       "      <td>186</td>\n",
       "      <td>4.008621</td>\n",
       "    </tr>\n",
       "    <tr>\n",
       "      <th>4</th>\n",
       "      <td>32</td>\n",
       "      <td>184</td>\n",
       "      <td>3.965517</td>\n",
       "    </tr>\n",
       "    <tr>\n",
       "      <th>5</th>\n",
       "      <td>34</td>\n",
       "      <td>184</td>\n",
       "      <td>3.965517</td>\n",
       "    </tr>\n",
       "    <tr>\n",
       "      <th>6</th>\n",
       "      <td>35</td>\n",
       "      <td>167</td>\n",
       "      <td>3.599138</td>\n",
       "    </tr>\n",
       "    <tr>\n",
       "      <th>7</th>\n",
       "      <td>36</td>\n",
       "      <td>154</td>\n",
       "      <td>3.318966</td>\n",
       "    </tr>\n",
       "    <tr>\n",
       "      <th>8</th>\n",
       "      <td>28</td>\n",
       "      <td>151</td>\n",
       "      <td>3.254310</td>\n",
       "    </tr>\n",
       "    <tr>\n",
       "      <th>9</th>\n",
       "      <td>38</td>\n",
       "      <td>143</td>\n",
       "      <td>3.081897</td>\n",
       "    </tr>\n",
       "  </tbody>\n",
       "</table>\n",
       "</div>"
      ],
      "text/plain": [
       "   age  count  percentage\n",
       "0   31    220    4.741379\n",
       "1   33    210    4.525862\n",
       "2   30    202    4.353448\n",
       "3   29    186    4.008621\n",
       "4   32    184    3.965517\n",
       "5   34    184    3.965517\n",
       "6   35    167    3.599138\n",
       "7   36    154    3.318966\n",
       "8   28    151    3.254310\n",
       "9   38    143    3.081897"
      ]
     },
     "execution_count": 161,
     "metadata": {},
     "output_type": "execute_result"
    }
   ],
   "source": [
    "a = count_values(subs_data, 'age').sort_values(by = 'percentage', ascending = False).head(10)\n",
    "a\n",
    "# sum(a['percentage']) gives 38.8%\n",
    "\n",
    "# Insight 1: 38.8% Subscribers are in the age group of (29 to 39)"
   ]
  },
  {
   "cell_type": "code",
   "execution_count": 162,
   "metadata": {},
   "outputs": [
    {
     "data": {
      "text/html": [
       "<div>\n",
       "<style scoped>\n",
       "    .dataframe tbody tr th:only-of-type {\n",
       "        vertical-align: middle;\n",
       "    }\n",
       "\n",
       "    .dataframe tbody tr th {\n",
       "        vertical-align: top;\n",
       "    }\n",
       "\n",
       "    .dataframe thead th {\n",
       "        text-align: right;\n",
       "    }\n",
       "</style>\n",
       "<table border=\"1\" class=\"dataframe\">\n",
       "  <thead>\n",
       "    <tr style=\"text-align: right;\">\n",
       "      <th></th>\n",
       "      <th>age</th>\n",
       "      <th>count</th>\n",
       "      <th>conversion %</th>\n",
       "    </tr>\n",
       "  </thead>\n",
       "  <tbody>\n",
       "    <tr>\n",
       "      <th>72</th>\n",
       "      <td>17</td>\n",
       "      <td>2</td>\n",
       "      <td>100.000000</td>\n",
       "    </tr>\n",
       "    <tr>\n",
       "      <th>59</th>\n",
       "      <td>18</td>\n",
       "      <td>12</td>\n",
       "      <td>46.153846</td>\n",
       "    </tr>\n",
       "    <tr>\n",
       "      <th>51</th>\n",
       "      <td>63</td>\n",
       "      <td>17</td>\n",
       "      <td>50.000000</td>\n",
       "    </tr>\n",
       "    <tr>\n",
       "      <th>41</th>\n",
       "      <td>66</td>\n",
       "      <td>29</td>\n",
       "      <td>44.615385</td>\n",
       "    </tr>\n",
       "    <tr>\n",
       "      <th>60</th>\n",
       "      <td>67</td>\n",
       "      <td>11</td>\n",
       "      <td>45.833333</td>\n",
       "    </tr>\n",
       "    <tr>\n",
       "      <th>57</th>\n",
       "      <td>73</td>\n",
       "      <td>13</td>\n",
       "      <td>46.428571</td>\n",
       "    </tr>\n",
       "    <tr>\n",
       "      <th>62</th>\n",
       "      <td>75</td>\n",
       "      <td>11</td>\n",
       "      <td>55.000000</td>\n",
       "    </tr>\n",
       "    <tr>\n",
       "      <th>58</th>\n",
       "      <td>77</td>\n",
       "      <td>13</td>\n",
       "      <td>48.148148</td>\n",
       "    </tr>\n",
       "    <tr>\n",
       "      <th>67</th>\n",
       "      <td>79</td>\n",
       "      <td>7</td>\n",
       "      <td>50.000000</td>\n",
       "    </tr>\n",
       "    <tr>\n",
       "      <th>50</th>\n",
       "      <td>80</td>\n",
       "      <td>18</td>\n",
       "      <td>52.941176</td>\n",
       "    </tr>\n",
       "    <tr>\n",
       "      <th>64</th>\n",
       "      <td>81</td>\n",
       "      <td>8</td>\n",
       "      <td>47.058824</td>\n",
       "    </tr>\n",
       "    <tr>\n",
       "      <th>61</th>\n",
       "      <td>82</td>\n",
       "      <td>11</td>\n",
       "      <td>50.000000</td>\n",
       "    </tr>\n",
       "    <tr>\n",
       "      <th>65</th>\n",
       "      <td>83</td>\n",
       "      <td>8</td>\n",
       "      <td>47.058824</td>\n",
       "    </tr>\n",
       "    <tr>\n",
       "      <th>66</th>\n",
       "      <td>85</td>\n",
       "      <td>7</td>\n",
       "      <td>46.666667</td>\n",
       "    </tr>\n",
       "    <tr>\n",
       "      <th>68</th>\n",
       "      <td>86</td>\n",
       "      <td>5</td>\n",
       "      <td>62.500000</td>\n",
       "    </tr>\n",
       "    <tr>\n",
       "      <th>74</th>\n",
       "      <td>87</td>\n",
       "      <td>1</td>\n",
       "      <td>50.000000</td>\n",
       "    </tr>\n",
       "    <tr>\n",
       "      <th>63</th>\n",
       "      <td>88</td>\n",
       "      <td>9</td>\n",
       "      <td>45.000000</td>\n",
       "    </tr>\n",
       "    <tr>\n",
       "      <th>71</th>\n",
       "      <td>89</td>\n",
       "      <td>2</td>\n",
       "      <td>50.000000</td>\n",
       "    </tr>\n",
       "    <tr>\n",
       "      <th>70</th>\n",
       "      <td>92</td>\n",
       "      <td>3</td>\n",
       "      <td>60.000000</td>\n",
       "    </tr>\n",
       "    <tr>\n",
       "      <th>73</th>\n",
       "      <td>98</td>\n",
       "      <td>2</td>\n",
       "      <td>100.000000</td>\n",
       "    </tr>\n",
       "  </tbody>\n",
       "</table>\n",
       "</div>"
      ],
      "text/plain": [
       "    age  count  conversion %\n",
       "72   17      2    100.000000\n",
       "59   18     12     46.153846\n",
       "51   63     17     50.000000\n",
       "41   66     29     44.615385\n",
       "60   67     11     45.833333\n",
       "57   73     13     46.428571\n",
       "62   75     11     55.000000\n",
       "58   77     13     48.148148\n",
       "67   79      7     50.000000\n",
       "50   80     18     52.941176\n",
       "64   81      8     47.058824\n",
       "61   82     11     50.000000\n",
       "65   83      8     47.058824\n",
       "66   85      7     46.666667\n",
       "68   86      5     62.500000\n",
       "74   87      1     50.000000\n",
       "63   88      9     45.000000\n",
       "71   89      2     50.000000\n",
       "70   92      3     60.000000\n",
       "73   98      2    100.000000"
      ]
     },
     "execution_count": 162,
     "metadata": {},
     "output_type": "execute_result"
    }
   ],
   "source": [
    "leads_data(data, subs_data, 'age').sort_values(by = 'conversion %', ascending = False).head(20).sort_values(by = 'age')\n",
    "\n",
    "# Insight 2: In the age (60-90), the Leads conversion rate is maximum."
   ]
  },
  {
   "cell_type": "code",
   "execution_count": 166,
   "metadata": {},
   "outputs": [
    {
     "data": {
      "text/html": [
       "<div>\n",
       "<style scoped>\n",
       "    .dataframe tbody tr th:only-of-type {\n",
       "        vertical-align: middle;\n",
       "    }\n",
       "\n",
       "    .dataframe tbody tr th {\n",
       "        vertical-align: top;\n",
       "    }\n",
       "\n",
       "    .dataframe thead th {\n",
       "        text-align: right;\n",
       "    }\n",
       "</style>\n",
       "<table border=\"1\" class=\"dataframe\">\n",
       "  <thead>\n",
       "    <tr style=\"text-align: right;\">\n",
       "      <th></th>\n",
       "      <th>age</th>\n",
       "      <th>count</th>\n",
       "      <th>conversion %</th>\n",
       "    </tr>\n",
       "  </thead>\n",
       "  <tbody>\n",
       "    <tr>\n",
       "      <th>21</th>\n",
       "      <td>24</td>\n",
       "      <td>86</td>\n",
       "      <td>9.828571</td>\n",
       "    </tr>\n",
       "    <tr>\n",
       "      <th>16</th>\n",
       "      <td>25</td>\n",
       "      <td>93</td>\n",
       "      <td>9.029126</td>\n",
       "    </tr>\n",
       "    <tr>\n",
       "      <th>11</th>\n",
       "      <td>26</td>\n",
       "      <td>122</td>\n",
       "      <td>9.546166</td>\n",
       "    </tr>\n",
       "    <tr>\n",
       "      <th>13</th>\n",
       "      <td>27</td>\n",
       "      <td>114</td>\n",
       "      <td>9.982487</td>\n",
       "    </tr>\n",
       "    <tr>\n",
       "      <th>6</th>\n",
       "      <td>35</td>\n",
       "      <td>167</td>\n",
       "      <td>9.743291</td>\n",
       "    </tr>\n",
       "    <tr>\n",
       "      <th>10</th>\n",
       "      <td>37</td>\n",
       "      <td>137</td>\n",
       "      <td>9.737029</td>\n",
       "    </tr>\n",
       "    <tr>\n",
       "      <th>9</th>\n",
       "      <td>38</td>\n",
       "      <td>143</td>\n",
       "      <td>9.986034</td>\n",
       "    </tr>\n",
       "    <tr>\n",
       "      <th>12</th>\n",
       "      <td>39</td>\n",
       "      <td>114</td>\n",
       "      <td>9.819121</td>\n",
       "    </tr>\n",
       "    <tr>\n",
       "      <th>22</th>\n",
       "      <td>40</td>\n",
       "      <td>84</td>\n",
       "      <td>9.870740</td>\n",
       "    </tr>\n",
       "    <tr>\n",
       "      <th>18</th>\n",
       "      <td>42</td>\n",
       "      <td>91</td>\n",
       "      <td>9.090909</td>\n",
       "    </tr>\n",
       "    <tr>\n",
       "      <th>19</th>\n",
       "      <td>43</td>\n",
       "      <td>88</td>\n",
       "      <td>8.988764</td>\n",
       "    </tr>\n",
       "    <tr>\n",
       "      <th>17</th>\n",
       "      <td>45</td>\n",
       "      <td>92</td>\n",
       "      <td>9.099901</td>\n",
       "    </tr>\n",
       "    <tr>\n",
       "      <th>15</th>\n",
       "      <td>48</td>\n",
       "      <td>97</td>\n",
       "      <td>9.194313</td>\n",
       "    </tr>\n",
       "    <tr>\n",
       "      <th>20</th>\n",
       "      <td>50</td>\n",
       "      <td>87</td>\n",
       "      <td>9.375000</td>\n",
       "    </tr>\n",
       "    <tr>\n",
       "      <th>23</th>\n",
       "      <td>52</td>\n",
       "      <td>81</td>\n",
       "      <td>9.654350</td>\n",
       "    </tr>\n",
       "    <tr>\n",
       "      <th>29</th>\n",
       "      <td>53</td>\n",
       "      <td>68</td>\n",
       "      <td>9.941520</td>\n",
       "    </tr>\n",
       "    <tr>\n",
       "      <th>30</th>\n",
       "      <td>54</td>\n",
       "      <td>64</td>\n",
       "      <td>9.876543</td>\n",
       "    </tr>\n",
       "    <tr>\n",
       "      <th>31</th>\n",
       "      <td>57</td>\n",
       "      <td>62</td>\n",
       "      <td>9.597523</td>\n",
       "    </tr>\n",
       "    <tr>\n",
       "      <th>32</th>\n",
       "      <td>58</td>\n",
       "      <td>58</td>\n",
       "      <td>9.698997</td>\n",
       "    </tr>\n",
       "    <tr>\n",
       "      <th>28</th>\n",
       "      <td>59</td>\n",
       "      <td>69</td>\n",
       "      <td>9.885387</td>\n",
       "    </tr>\n",
       "  </tbody>\n",
       "</table>\n",
       "</div>"
      ],
      "text/plain": [
       "    age  count  conversion %\n",
       "21   24     86      9.828571\n",
       "16   25     93      9.029126\n",
       "11   26    122      9.546166\n",
       "13   27    114      9.982487\n",
       "6    35    167      9.743291\n",
       "10   37    137      9.737029\n",
       "9    38    143      9.986034\n",
       "12   39    114      9.819121\n",
       "22   40     84      9.870740\n",
       "18   42     91      9.090909\n",
       "19   43     88      8.988764\n",
       "17   45     92      9.099901\n",
       "15   48     97      9.194313\n",
       "20   50     87      9.375000\n",
       "23   52     81      9.654350\n",
       "29   53     68      9.941520\n",
       "30   54     64      9.876543\n",
       "31   57     62      9.597523\n",
       "32   58     58      9.698997\n",
       "28   59     69      9.885387"
      ]
     },
     "execution_count": 166,
     "metadata": {},
     "output_type": "execute_result"
    }
   ],
   "source": [
    "b = leads_data(data, subs_data, 'age').sort_values(by = 'conversion %').head(20).sort_values(by = 'age')\n",
    "b\n",
    "# b['conversion %'].mean()\n",
    "# Insight 3: In the age (60-90), the Leads conversion rate is 5X as compared to age group (25-55)."
   ]
  },
  {
   "cell_type": "code",
   "execution_count": 119,
   "metadata": {
    "scrolled": false
   },
   "outputs": [
    {
     "data": {
      "image/png": "[encoded data removed]",
      "text/plain": [
       "<Figure size 432x288 with 1 Axes>"
      ]
     },
     "metadata": {
      "needs_background": "light"
     },
     "output_type": "display_data"
    }
   ],
   "source": [
    "get_chart(data,subs_data, 'age')\n",
    "\n",
    "# Insight 4: People in the age range of (30-35) are targeted maximum."
   ]
  },
  {
   "cell_type": "code",
   "execution_count": 120,
   "metadata": {
    "scrolled": false
   },
   "outputs": [
    {
     "data": {
      "image/png": "[encoded data removed]",
      "text/plain": [
       "<Figure size 432x288 with 1 Axes>"
      ]
     },
     "metadata": {
      "needs_background": "light"
     },
     "output_type": "display_data"
    }
   ],
   "source": [
    "detail_chart(subs_data, 'age')"
   ]
  },
  {
   "cell_type": "code",
   "execution_count": 121,
   "metadata": {},
   "outputs": [
    {
     "data": {
      "text/plain": [
       "count    4640.000000\n",
       "mean       40.913147\n",
       "std        13.837476\n",
       "min        17.000000\n",
       "25%        31.000000\n",
       "50%        37.000000\n",
       "75%        50.000000\n",
       "max        98.000000\n",
       "Name: age, dtype: float64"
      ]
     },
     "execution_count": 121,
     "metadata": {},
     "output_type": "execute_result"
    }
   ],
   "source": [
    "describe_parameter(subs_data, 'age')"
   ]
  },
  {
   "cell_type": "code",
   "execution_count": 122,
   "metadata": {},
   "outputs": [],
   "source": [
    "# JOB ANALYTICS"
   ]
  },
  {
   "cell_type": "code",
   "execution_count": 123,
   "metadata": {},
   "outputs": [
    {
     "data": {
      "text/html": [
       "<div>\n",
       "<style scoped>\n",
       "    .dataframe tbody tr th:only-of-type {\n",
       "        vertical-align: middle;\n",
       "    }\n",
       "\n",
       "    .dataframe tbody tr th {\n",
       "        vertical-align: top;\n",
       "    }\n",
       "\n",
       "    .dataframe thead th {\n",
       "        text-align: right;\n",
       "    }\n",
       "</style>\n",
       "<table border=\"1\" class=\"dataframe\">\n",
       "  <thead>\n",
       "    <tr style=\"text-align: right;\">\n",
       "      <th></th>\n",
       "      <th>job</th>\n",
       "      <th>count</th>\n",
       "      <th>percentage</th>\n",
       "    </tr>\n",
       "  </thead>\n",
       "  <tbody>\n",
       "    <tr>\n",
       "      <th>0</th>\n",
       "      <td>admin.</td>\n",
       "      <td>1352</td>\n",
       "      <td>29.137931</td>\n",
       "    </tr>\n",
       "    <tr>\n",
       "      <th>1</th>\n",
       "      <td>technician</td>\n",
       "      <td>730</td>\n",
       "      <td>15.732759</td>\n",
       "    </tr>\n",
       "    <tr>\n",
       "      <th>2</th>\n",
       "      <td>blue-collar</td>\n",
       "      <td>638</td>\n",
       "      <td>13.750000</td>\n",
       "    </tr>\n",
       "    <tr>\n",
       "      <th>3</th>\n",
       "      <td>retired</td>\n",
       "      <td>434</td>\n",
       "      <td>9.353448</td>\n",
       "    </tr>\n",
       "    <tr>\n",
       "      <th>4</th>\n",
       "      <td>management</td>\n",
       "      <td>328</td>\n",
       "      <td>7.068966</td>\n",
       "    </tr>\n",
       "    <tr>\n",
       "      <th>5</th>\n",
       "      <td>services</td>\n",
       "      <td>323</td>\n",
       "      <td>6.961207</td>\n",
       "    </tr>\n",
       "    <tr>\n",
       "      <th>6</th>\n",
       "      <td>student</td>\n",
       "      <td>275</td>\n",
       "      <td>5.926724</td>\n",
       "    </tr>\n",
       "    <tr>\n",
       "      <th>7</th>\n",
       "      <td>self-employed</td>\n",
       "      <td>149</td>\n",
       "      <td>3.211207</td>\n",
       "    </tr>\n",
       "    <tr>\n",
       "      <th>8</th>\n",
       "      <td>unemployed</td>\n",
       "      <td>144</td>\n",
       "      <td>3.103448</td>\n",
       "    </tr>\n",
       "    <tr>\n",
       "      <th>9</th>\n",
       "      <td>entrepreneur</td>\n",
       "      <td>124</td>\n",
       "      <td>2.672414</td>\n",
       "    </tr>\n",
       "    <tr>\n",
       "      <th>10</th>\n",
       "      <td>housemaid</td>\n",
       "      <td>106</td>\n",
       "      <td>2.284483</td>\n",
       "    </tr>\n",
       "    <tr>\n",
       "      <th>11</th>\n",
       "      <td>unknown</td>\n",
       "      <td>37</td>\n",
       "      <td>0.797414</td>\n",
       "    </tr>\n",
       "  </tbody>\n",
       "</table>\n",
       "</div>"
      ],
      "text/plain": [
       "              job  count  percentage\n",
       "0          admin.   1352   29.137931\n",
       "1      technician    730   15.732759\n",
       "2     blue-collar    638   13.750000\n",
       "3         retired    434    9.353448\n",
       "4      management    328    7.068966\n",
       "5        services    323    6.961207\n",
       "6         student    275    5.926724\n",
       "7   self-employed    149    3.211207\n",
       "8      unemployed    144    3.103448\n",
       "9    entrepreneur    124    2.672414\n",
       "10      housemaid    106    2.284483\n",
       "11        unknown     37    0.797414"
      ]
     },
     "execution_count": 123,
     "metadata": {},
     "output_type": "execute_result"
    }
   ],
   "source": [
    "count_values(subs_data, 'job').sort_values(by = 'percentage', ascending = False)\n",
    "\n",
    "# Insight 4: People who work in Administration, technician and Blue-collor jobs subscribe to term deposit the most. \n",
    "# Insight 5: People who are students, unemployed or housemaid subscribe to term deposit the least. "
   ]
  },
  {
   "cell_type": "code",
   "execution_count": 124,
   "metadata": {},
   "outputs": [
    {
     "data": {
      "text/html": [
       "<div>\n",
       "<style scoped>\n",
       "    .dataframe tbody tr th:only-of-type {\n",
       "        vertical-align: middle;\n",
       "    }\n",
       "\n",
       "    .dataframe tbody tr th {\n",
       "        vertical-align: top;\n",
       "    }\n",
       "\n",
       "    .dataframe thead th {\n",
       "        text-align: right;\n",
       "    }\n",
       "</style>\n",
       "<table border=\"1\" class=\"dataframe\">\n",
       "  <thead>\n",
       "    <tr style=\"text-align: right;\">\n",
       "      <th></th>\n",
       "      <th>job</th>\n",
       "      <th>count</th>\n",
       "      <th>conversion %</th>\n",
       "    </tr>\n",
       "  </thead>\n",
       "  <tbody>\n",
       "    <tr>\n",
       "      <th>6</th>\n",
       "      <td>student</td>\n",
       "      <td>275</td>\n",
       "      <td>18.887363</td>\n",
       "    </tr>\n",
       "    <tr>\n",
       "      <th>5</th>\n",
       "      <td>services</td>\n",
       "      <td>323</td>\n",
       "      <td>18.779070</td>\n",
       "    </tr>\n",
       "    <tr>\n",
       "      <th>8</th>\n",
       "      <td>unemployed</td>\n",
       "      <td>144</td>\n",
       "      <td>13.584906</td>\n",
       "    </tr>\n",
       "    <tr>\n",
       "      <th>0</th>\n",
       "      <td>admin.</td>\n",
       "      <td>1352</td>\n",
       "      <td>12.972558</td>\n",
       "    </tr>\n",
       "    <tr>\n",
       "      <th>9</th>\n",
       "      <td>entrepreneur</td>\n",
       "      <td>124</td>\n",
       "      <td>12.228797</td>\n",
       "    </tr>\n",
       "    <tr>\n",
       "      <th>10</th>\n",
       "      <td>housemaid</td>\n",
       "      <td>106</td>\n",
       "      <td>12.114286</td>\n",
       "    </tr>\n",
       "    <tr>\n",
       "      <th>4</th>\n",
       "      <td>management</td>\n",
       "      <td>328</td>\n",
       "      <td>11.217510</td>\n",
       "    </tr>\n",
       "    <tr>\n",
       "      <th>11</th>\n",
       "      <td>unknown</td>\n",
       "      <td>37</td>\n",
       "      <td>11.212121</td>\n",
       "    </tr>\n",
       "    <tr>\n",
       "      <th>3</th>\n",
       "      <td>retired</td>\n",
       "      <td>434</td>\n",
       "      <td>10.934744</td>\n",
       "    </tr>\n",
       "    <tr>\n",
       "      <th>7</th>\n",
       "      <td>self-employed</td>\n",
       "      <td>149</td>\n",
       "      <td>10.485574</td>\n",
       "    </tr>\n",
       "    <tr>\n",
       "      <th>2</th>\n",
       "      <td>blue-collar</td>\n",
       "      <td>638</td>\n",
       "      <td>9.461664</td>\n",
       "    </tr>\n",
       "    <tr>\n",
       "      <th>1</th>\n",
       "      <td>technician</td>\n",
       "      <td>730</td>\n",
       "      <td>7.888481</td>\n",
       "    </tr>\n",
       "  </tbody>\n",
       "</table>\n",
       "</div>"
      ],
      "text/plain": [
       "              job  count  conversion %\n",
       "6         student    275     18.887363\n",
       "5        services    323     18.779070\n",
       "8      unemployed    144     13.584906\n",
       "0          admin.   1352     12.972558\n",
       "9    entrepreneur    124     12.228797\n",
       "10      housemaid    106     12.114286\n",
       "4      management    328     11.217510\n",
       "11        unknown     37     11.212121\n",
       "3         retired    434     10.934744\n",
       "7   self-employed    149     10.485574\n",
       "2     blue-collar    638      9.461664\n",
       "1      technician    730      7.888481"
      ]
     },
     "execution_count": 124,
     "metadata": {},
     "output_type": "execute_result"
    }
   ],
   "source": [
    "leads_data(data, subs_data, 'job').sort_values(by = 'conversion %', ascending = False)\n",
    "# Insight 6: Students, services people and unemployed are easiest to get whereas technician, blue-collar and self employed are difficult to get subscribe. "
   ]
  },
  {
   "cell_type": "code",
   "execution_count": 125,
   "metadata": {
    "scrolled": true
   },
   "outputs": [
    {
     "data": {
      "image/png": "[encoded data removed]",
      "text/plain": [
       "<Figure size 432x288 with 1 Axes>"
      ]
     },
     "metadata": {},
     "output_type": "display_data"
    }
   ],
   "source": [
    "get_pie(subs_data, 'job')"
   ]
  },
  {
   "cell_type": "code",
   "execution_count": 126,
   "metadata": {},
   "outputs": [
    {
     "data": {
      "text/plain": [
       "count       4640\n",
       "unique        12\n",
       "top       admin.\n",
       "freq        1352\n",
       "Name: job, dtype: object"
      ]
     },
     "execution_count": 126,
     "metadata": {},
     "output_type": "execute_result"
    }
   ],
   "source": [
    "describe_parameter(subs_data, 'job')"
   ]
  },
  {
   "cell_type": "code",
   "execution_count": 127,
   "metadata": {},
   "outputs": [],
   "source": [
    "# MARITAL STATUS ANALYTICS"
   ]
  },
  {
   "cell_type": "code",
   "execution_count": 128,
   "metadata": {},
   "outputs": [
    {
     "data": {
      "text/plain": [
       "array(['divorced', 'married', 'single', 'unknown'], dtype=object)"
      ]
     },
     "execution_count": 128,
     "metadata": {},
     "output_type": "execute_result"
    }
   ],
   "source": [
    "subs_data['marital'].unique()"
   ]
  },
  {
   "cell_type": "code",
   "execution_count": 129,
   "metadata": {},
   "outputs": [
    {
     "data": {
      "text/html": [
       "<div>\n",
       "<style scoped>\n",
       "    .dataframe tbody tr th:only-of-type {\n",
       "        vertical-align: middle;\n",
       "    }\n",
       "\n",
       "    .dataframe tbody tr th {\n",
       "        vertical-align: top;\n",
       "    }\n",
       "\n",
       "    .dataframe thead th {\n",
       "        text-align: right;\n",
       "    }\n",
       "</style>\n",
       "<table border=\"1\" class=\"dataframe\">\n",
       "  <thead>\n",
       "    <tr style=\"text-align: right;\">\n",
       "      <th></th>\n",
       "      <th>Marital Status</th>\n",
       "      <th>No of Subscribers</th>\n",
       "    </tr>\n",
       "  </thead>\n",
       "  <tbody>\n",
       "    <tr>\n",
       "      <th>0</th>\n",
       "      <td>married</td>\n",
       "      <td>2532</td>\n",
       "    </tr>\n",
       "    <tr>\n",
       "      <th>1</th>\n",
       "      <td>single</td>\n",
       "      <td>1620</td>\n",
       "    </tr>\n",
       "    <tr>\n",
       "      <th>2</th>\n",
       "      <td>divorced</td>\n",
       "      <td>476</td>\n",
       "    </tr>\n",
       "  </tbody>\n",
       "</table>\n",
       "</div>"
      ],
      "text/plain": [
       "  Marital Status  No of Subscribers\n",
       "0        married               2532\n",
       "1         single               1620\n",
       "2       divorced                476"
      ]
     },
     "execution_count": 129,
     "metadata": {},
     "output_type": "execute_result"
    }
   ],
   "source": [
    "df_marital = subs_data['marital'].value_counts().rename_axis(\"Marital Status\").reset_index(name = \"No of Subscribers\")\n",
    "df_marital = df_marital.drop([3], axis = 0)\n",
    "df_marital"
   ]
  },
  {
   "cell_type": "code",
   "execution_count": 130,
   "metadata": {},
   "outputs": [
    {
     "data": {
      "text/html": [
       "<div>\n",
       "<style scoped>\n",
       "    .dataframe tbody tr th:only-of-type {\n",
       "        vertical-align: middle;\n",
       "    }\n",
       "\n",
       "    .dataframe tbody tr th {\n",
       "        vertical-align: top;\n",
       "    }\n",
       "\n",
       "    .dataframe thead th {\n",
       "        text-align: right;\n",
       "    }\n",
       "</style>\n",
       "<table border=\"1\" class=\"dataframe\">\n",
       "  <thead>\n",
       "    <tr style=\"text-align: right;\">\n",
       "      <th></th>\n",
       "      <th>Marital Status</th>\n",
       "      <th>No of Customers</th>\n",
       "    </tr>\n",
       "  </thead>\n",
       "  <tbody>\n",
       "    <tr>\n",
       "      <th>0</th>\n",
       "      <td>married</td>\n",
       "      <td>24928</td>\n",
       "    </tr>\n",
       "    <tr>\n",
       "      <th>1</th>\n",
       "      <td>single</td>\n",
       "      <td>11568</td>\n",
       "    </tr>\n",
       "    <tr>\n",
       "      <th>2</th>\n",
       "      <td>divorced</td>\n",
       "      <td>4612</td>\n",
       "    </tr>\n",
       "  </tbody>\n",
       "</table>\n",
       "</div>"
      ],
      "text/plain": [
       "  Marital Status  No of Customers\n",
       "0        married            24928\n",
       "1         single            11568\n",
       "2       divorced             4612"
      ]
     },
     "execution_count": 130,
     "metadata": {},
     "output_type": "execute_result"
    }
   ],
   "source": [
    "data_marital = data['marital'].value_counts().rename_axis(\"Marital Status\").reset_index(name = \"No of Customers\")\n",
    "data_marital = data_marital.drop([3], axis = 0)\n",
    "data_marital"
   ]
  },
  {
   "cell_type": "code",
   "execution_count": 131,
   "metadata": {
    "scrolled": true
   },
   "outputs": [
    {
     "data": {
      "image/png": "[encoded data removed]",
      "text/plain": [
       "<Figure size 432x288 with 1 Axes>"
      ]
     },
     "metadata": {},
     "output_type": "display_data"
    }
   ],
   "source": [
    "pyplot.pie(df_marital['No of Subscribers'], labels = df_marital['Marital Status'], \n",
    "           wedgeprops = {'edgecolor' : 'grey'}, autopct = '%1.1f%%')\n",
    "pyplot.title(\"Marital Status of Customers who subscribed to term Deposits\")\n",
    "pyplot.tight_layout()"
   ]
  },
  {
   "cell_type": "code",
   "execution_count": 132,
   "metadata": {},
   "outputs": [
    {
     "data": {
      "text/html": [
       "<div>\n",
       "<style scoped>\n",
       "    .dataframe tbody tr th:only-of-type {\n",
       "        vertical-align: middle;\n",
       "    }\n",
       "\n",
       "    .dataframe tbody tr th {\n",
       "        vertical-align: top;\n",
       "    }\n",
       "\n",
       "    .dataframe thead th {\n",
       "        text-align: right;\n",
       "    }\n",
       "</style>\n",
       "<table border=\"1\" class=\"dataframe\">\n",
       "  <thead>\n",
       "    <tr style=\"text-align: right;\">\n",
       "      <th></th>\n",
       "      <th>Marital Status</th>\n",
       "      <th>No of Subscribers</th>\n",
       "      <th>Leads Conversion</th>\n",
       "    </tr>\n",
       "  </thead>\n",
       "  <tbody>\n",
       "    <tr>\n",
       "      <th>0</th>\n",
       "      <td>married</td>\n",
       "      <td>2532</td>\n",
       "      <td>10.157253</td>\n",
       "    </tr>\n",
       "    <tr>\n",
       "      <th>1</th>\n",
       "      <td>single</td>\n",
       "      <td>1620</td>\n",
       "      <td>14.004149</td>\n",
       "    </tr>\n",
       "    <tr>\n",
       "      <th>2</th>\n",
       "      <td>divorced</td>\n",
       "      <td>476</td>\n",
       "      <td>10.320902</td>\n",
       "    </tr>\n",
       "  </tbody>\n",
       "</table>\n",
       "</div>"
      ],
      "text/plain": [
       "  Marital Status  No of Subscribers  Leads Conversion\n",
       "0        married               2532         10.157253\n",
       "1         single               1620         14.004149\n",
       "2       divorced                476         10.320902"
      ]
     },
     "execution_count": 132,
     "metadata": {},
     "output_type": "execute_result"
    }
   ],
   "source": [
    "df_marital['Leads Conversion'] = df_marital['No of Subscribers']/data_marital['No of Customers']*100\n",
    "df_marital\n",
    "# Insight 6: Single people tend to subscribe term deposit the most. "
   ]
  },
  {
   "cell_type": "code",
   "execution_count": 133,
   "metadata": {},
   "outputs": [],
   "source": [
    "# EDUCATIONAL STATUS ANALYTICS"
   ]
  },
  {
   "cell_type": "code",
   "execution_count": 134,
   "metadata": {},
   "outputs": [
    {
     "data": {
      "text/html": [
       "<div>\n",
       "<style scoped>\n",
       "    .dataframe tbody tr th:only-of-type {\n",
       "        vertical-align: middle;\n",
       "    }\n",
       "\n",
       "    .dataframe tbody tr th {\n",
       "        vertical-align: top;\n",
       "    }\n",
       "\n",
       "    .dataframe thead th {\n",
       "        text-align: right;\n",
       "    }\n",
       "</style>\n",
       "<table border=\"1\" class=\"dataframe\">\n",
       "  <thead>\n",
       "    <tr style=\"text-align: right;\">\n",
       "      <th></th>\n",
       "      <th>Education Level</th>\n",
       "      <th>No of Subscribers</th>\n",
       "    </tr>\n",
       "  </thead>\n",
       "  <tbody>\n",
       "    <tr>\n",
       "      <th>0</th>\n",
       "      <td>university.degree</td>\n",
       "      <td>1670</td>\n",
       "    </tr>\n",
       "    <tr>\n",
       "      <th>1</th>\n",
       "      <td>high.school</td>\n",
       "      <td>1031</td>\n",
       "    </tr>\n",
       "    <tr>\n",
       "      <th>2</th>\n",
       "      <td>professional.course</td>\n",
       "      <td>595</td>\n",
       "    </tr>\n",
       "    <tr>\n",
       "      <th>3</th>\n",
       "      <td>basic.9y</td>\n",
       "      <td>473</td>\n",
       "    </tr>\n",
       "    <tr>\n",
       "      <th>4</th>\n",
       "      <td>basic.4y</td>\n",
       "      <td>428</td>\n",
       "    </tr>\n",
       "    <tr>\n",
       "      <th>5</th>\n",
       "      <td>unknown</td>\n",
       "      <td>251</td>\n",
       "    </tr>\n",
       "    <tr>\n",
       "      <th>6</th>\n",
       "      <td>basic.6y</td>\n",
       "      <td>188</td>\n",
       "    </tr>\n",
       "    <tr>\n",
       "      <th>7</th>\n",
       "      <td>illiterate</td>\n",
       "      <td>4</td>\n",
       "    </tr>\n",
       "  </tbody>\n",
       "</table>\n",
       "</div>"
      ],
      "text/plain": [
       "       Education Level  No of Subscribers\n",
       "0    university.degree               1670\n",
       "1          high.school               1031\n",
       "2  professional.course                595\n",
       "3             basic.9y                473\n",
       "4             basic.4y                428\n",
       "5              unknown                251\n",
       "6             basic.6y                188\n",
       "7           illiterate                  4"
      ]
     },
     "execution_count": 134,
     "metadata": {},
     "output_type": "execute_result"
    }
   ],
   "source": [
    "df_ed = subs_data['education'].value_counts().rename_axis('Education Level').reset_index(name = 'No of Subscribers')\n",
    "df_ed"
   ]
  },
  {
   "cell_type": "code",
   "execution_count": 135,
   "metadata": {},
   "outputs": [
    {
     "data": {
      "image/png": "[encoded data removed]",
      "text/plain": [
       "<Figure size 432x288 with 1 Axes>"
      ]
     },
     "metadata": {
      "needs_background": "light"
     },
     "output_type": "display_data"
    }
   ],
   "source": [
    "pyplot.barh(df_ed['Education Level'],df_ed['No of Subscribers'] , edgecolor = 'black', color = 'orange')\n",
    "pyplot.ylabel('Education Level')\n",
    "pyplot.xlabel('No of subscribers')\n",
    "pyplot.title(\"Education Status of Customers who subscribed to Term Deposit\")\n",
    "pyplot.tight_layout()\n",
    "\n",
    "# Insight 7: Well Educated people who have either University degree or went High school or have enrolled in professional course subscribe term deposits the most"
   ]
  },
  {
   "cell_type": "code",
   "execution_count": 136,
   "metadata": {},
   "outputs": [],
   "source": [
    "# CREDIT DEFAULTS ANALYTICS"
   ]
  },
  {
   "cell_type": "code",
   "execution_count": 137,
   "metadata": {},
   "outputs": [
    {
     "data": {
      "text/html": [
       "<div>\n",
       "<style scoped>\n",
       "    .dataframe tbody tr th:only-of-type {\n",
       "        vertical-align: middle;\n",
       "    }\n",
       "\n",
       "    .dataframe tbody tr th {\n",
       "        vertical-align: top;\n",
       "    }\n",
       "\n",
       "    .dataframe thead th {\n",
       "        text-align: right;\n",
       "    }\n",
       "</style>\n",
       "<table border=\"1\" class=\"dataframe\">\n",
       "  <thead>\n",
       "    <tr style=\"text-align: right;\">\n",
       "      <th></th>\n",
       "      <th>credit default status</th>\n",
       "      <th>No of Subscribers</th>\n",
       "    </tr>\n",
       "  </thead>\n",
       "  <tbody>\n",
       "    <tr>\n",
       "      <th>0</th>\n",
       "      <td>no</td>\n",
       "      <td>4197</td>\n",
       "    </tr>\n",
       "    <tr>\n",
       "      <th>1</th>\n",
       "      <td>unknown</td>\n",
       "      <td>443</td>\n",
       "    </tr>\n",
       "  </tbody>\n",
       "</table>\n",
       "</div>"
      ],
      "text/plain": [
       "  credit default status  No of Subscribers\n",
       "0                    no               4197\n",
       "1               unknown                443"
      ]
     },
     "execution_count": 137,
     "metadata": {},
     "output_type": "execute_result"
    }
   ],
   "source": [
    "df_cd = subs_data['credit default'].value_counts().rename_axis('credit default status').reset_index(name = 'No of Subscribers')\n",
    "df_cd\n",
    "# Insight 8: All of the Customers who have subscribed term deposit have not defaulted on credit."
   ]
  },
  {
   "cell_type": "code",
   "execution_count": 138,
   "metadata": {},
   "outputs": [],
   "source": [
    "# HOME LOAN AND PERSONAL LOAN ANALYTICS housing loan\tpersonal loan"
   ]
  },
  {
   "cell_type": "code",
   "execution_count": 139,
   "metadata": {},
   "outputs": [
    {
     "data": {
      "text/html": [
       "<div>\n",
       "<style scoped>\n",
       "    .dataframe tbody tr th:only-of-type {\n",
       "        vertical-align: middle;\n",
       "    }\n",
       "\n",
       "    .dataframe tbody tr th {\n",
       "        vertical-align: top;\n",
       "    }\n",
       "\n",
       "    .dataframe thead th {\n",
       "        text-align: right;\n",
       "    }\n",
       "</style>\n",
       "<table border=\"1\" class=\"dataframe\">\n",
       "  <thead>\n",
       "    <tr style=\"text-align: right;\">\n",
       "      <th></th>\n",
       "      <th>Housing Loan Status</th>\n",
       "      <th>No of Subscribers</th>\n",
       "      <th>% of Subscribers</th>\n",
       "    </tr>\n",
       "  </thead>\n",
       "  <tbody>\n",
       "    <tr>\n",
       "      <th>0</th>\n",
       "      <td>yes</td>\n",
       "      <td>2507</td>\n",
       "      <td>55.305537</td>\n",
       "    </tr>\n",
       "    <tr>\n",
       "      <th>1</th>\n",
       "      <td>no</td>\n",
       "      <td>2026</td>\n",
       "      <td>44.694463</td>\n",
       "    </tr>\n",
       "  </tbody>\n",
       "</table>\n",
       "</div>"
      ],
      "text/plain": [
       "  Housing Loan Status  No of Subscribers  % of Subscribers\n",
       "0                 yes               2507         55.305537\n",
       "1                  no               2026         44.694463"
      ]
     },
     "execution_count": 139,
     "metadata": {},
     "output_type": "execute_result"
    }
   ],
   "source": [
    "df_hl = subs_data['housing loan'].value_counts().rename_axis('Housing Loan Status').reset_index(name = 'No of Subscribers')\n",
    "df_hl = df_hl.drop([2], axis = 0)\n",
    "df_hl['% of Subscribers'] = df_hl['No of Subscribers']/sum(df_hl['No of Subscribers'])*100\n",
    "df_hl\n",
    "# Insight 9: Approximately half of the customers have a home loan on them."
   ]
  },
  {
   "cell_type": "code",
   "execution_count": 140,
   "metadata": {},
   "outputs": [
    {
     "data": {
      "text/html": [
       "<div>\n",
       "<style scoped>\n",
       "    .dataframe tbody tr th:only-of-type {\n",
       "        vertical-align: middle;\n",
       "    }\n",
       "\n",
       "    .dataframe tbody tr th {\n",
       "        vertical-align: top;\n",
       "    }\n",
       "\n",
       "    .dataframe thead th {\n",
       "        text-align: right;\n",
       "    }\n",
       "</style>\n",
       "<table border=\"1\" class=\"dataframe\">\n",
       "  <thead>\n",
       "    <tr style=\"text-align: right;\">\n",
       "      <th></th>\n",
       "      <th>personal loan status</th>\n",
       "      <th>No of Subscribers</th>\n",
       "      <th>% of Subscribers</th>\n",
       "    </tr>\n",
       "  </thead>\n",
       "  <tbody>\n",
       "    <tr>\n",
       "      <th>0</th>\n",
       "      <td>no</td>\n",
       "      <td>3850</td>\n",
       "      <td>84.932716</td>\n",
       "    </tr>\n",
       "    <tr>\n",
       "      <th>1</th>\n",
       "      <td>yes</td>\n",
       "      <td>683</td>\n",
       "      <td>15.067284</td>\n",
       "    </tr>\n",
       "  </tbody>\n",
       "</table>\n",
       "</div>"
      ],
      "text/plain": [
       "  personal loan status  No of Subscribers  % of Subscribers\n",
       "0                   no               3850         84.932716\n",
       "1                  yes                683         15.067284"
      ]
     },
     "execution_count": 140,
     "metadata": {},
     "output_type": "execute_result"
    }
   ],
   "source": [
    "df_pl = subs_data['personal loan'].value_counts().rename_axis('personal loan status').reset_index(name = 'No of Subscribers')\n",
    "df_pl = df_pl.drop([2], axis = 0)\n",
    "df_pl['% of Subscribers'] = df_pl['No of Subscribers']/sum(df_pl['No of Subscribers'])*100\n",
    "df_pl\n",
    "# Insight 10: Only 15% of customers have personal loan on them."
   ]
  },
  {
   "cell_type": "code",
   "execution_count": 141,
   "metadata": {},
   "outputs": [],
   "source": [
    "# NO OF TIMES CONTACTED & DURATION ANALYTICS"
   ]
  },
  {
   "cell_type": "code",
   "execution_count": 142,
   "metadata": {},
   "outputs": [
    {
     "data": {
      "text/plain": [
       "count    4640.000000\n",
       "mean        9.219853\n",
       "std         6.686198\n",
       "min         0.616667\n",
       "25%         4.216667\n",
       "50%         7.483333\n",
       "75%        12.354167\n",
       "max        69.983333\n",
       "Name: duration (s), dtype: float64"
      ]
     },
     "execution_count": 142,
     "metadata": {},
     "output_type": "execute_result"
    }
   ],
   "source": [
    "# All the values in minutes.\n",
    "df_dur = subs_data['duration (s)']/60\n",
    "df_dur.describe()\n",
    "\n",
    "# Insight 11: Average duration per call for customers who subscribe to term deposit is 9.2 minutes, maximum call duration is 70 mins and minimum is 36 sec."
   ]
  },
  {
   "cell_type": "code",
   "execution_count": 143,
   "metadata": {},
   "outputs": [
    {
     "data": {
      "text/plain": [
       "count    4640.000000\n",
       "mean        2.051724\n",
       "std         1.666245\n",
       "min         1.000000\n",
       "25%         1.000000\n",
       "50%         2.000000\n",
       "75%         2.000000\n",
       "max        23.000000\n",
       "Name: campaign , dtype: float64"
      ]
     },
     "execution_count": 143,
     "metadata": {},
     "output_type": "execute_result"
    }
   ],
   "source": [
    "subs_data['campaign '].describe()"
   ]
  },
  {
   "cell_type": "code",
   "execution_count": 144,
   "metadata": {},
   "outputs": [
    {
     "data": {
      "text/html": [
       "<div>\n",
       "<style scoped>\n",
       "    .dataframe tbody tr th:only-of-type {\n",
       "        vertical-align: middle;\n",
       "    }\n",
       "\n",
       "    .dataframe tbody tr th {\n",
       "        vertical-align: top;\n",
       "    }\n",
       "\n",
       "    .dataframe thead th {\n",
       "        text-align: right;\n",
       "    }\n",
       "</style>\n",
       "<table border=\"1\" class=\"dataframe\">\n",
       "  <thead>\n",
       "    <tr style=\"text-align: right;\">\n",
       "      <th></th>\n",
       "      <th>No of times Contacted</th>\n",
       "      <th>No of Subscribers</th>\n",
       "      <th>% of Subscribers</th>\n",
       "    </tr>\n",
       "  </thead>\n",
       "  <tbody>\n",
       "    <tr>\n",
       "      <th>0</th>\n",
       "      <td>1</td>\n",
       "      <td>2300</td>\n",
       "      <td>49.568966</td>\n",
       "    </tr>\n",
       "    <tr>\n",
       "      <th>1</th>\n",
       "      <td>2</td>\n",
       "      <td>1211</td>\n",
       "      <td>26.099138</td>\n",
       "    </tr>\n",
       "    <tr>\n",
       "      <th>2</th>\n",
       "      <td>3</td>\n",
       "      <td>574</td>\n",
       "      <td>12.370690</td>\n",
       "    </tr>\n",
       "    <tr>\n",
       "      <th>3</th>\n",
       "      <td>4</td>\n",
       "      <td>249</td>\n",
       "      <td>5.366379</td>\n",
       "    </tr>\n",
       "    <tr>\n",
       "      <th>4</th>\n",
       "      <td>5</td>\n",
       "      <td>120</td>\n",
       "      <td>2.586207</td>\n",
       "    </tr>\n",
       "    <tr>\n",
       "      <th>5</th>\n",
       "      <td>6</td>\n",
       "      <td>75</td>\n",
       "      <td>1.616379</td>\n",
       "    </tr>\n",
       "    <tr>\n",
       "      <th>6</th>\n",
       "      <td>7</td>\n",
       "      <td>38</td>\n",
       "      <td>0.818966</td>\n",
       "    </tr>\n",
       "    <tr>\n",
       "      <th>7</th>\n",
       "      <td>9</td>\n",
       "      <td>17</td>\n",
       "      <td>0.366379</td>\n",
       "    </tr>\n",
       "    <tr>\n",
       "      <th>8</th>\n",
       "      <td>8</td>\n",
       "      <td>17</td>\n",
       "      <td>0.366379</td>\n",
       "    </tr>\n",
       "    <tr>\n",
       "      <th>9</th>\n",
       "      <td>10</td>\n",
       "      <td>12</td>\n",
       "      <td>0.258621</td>\n",
       "    </tr>\n",
       "    <tr>\n",
       "      <th>10</th>\n",
       "      <td>11</td>\n",
       "      <td>12</td>\n",
       "      <td>0.258621</td>\n",
       "    </tr>\n",
       "    <tr>\n",
       "      <th>11</th>\n",
       "      <td>17</td>\n",
       "      <td>4</td>\n",
       "      <td>0.086207</td>\n",
       "    </tr>\n",
       "    <tr>\n",
       "      <th>12</th>\n",
       "      <td>13</td>\n",
       "      <td>4</td>\n",
       "      <td>0.086207</td>\n",
       "    </tr>\n",
       "    <tr>\n",
       "      <th>13</th>\n",
       "      <td>12</td>\n",
       "      <td>3</td>\n",
       "      <td>0.064655</td>\n",
       "    </tr>\n",
       "    <tr>\n",
       "      <th>14</th>\n",
       "      <td>15</td>\n",
       "      <td>2</td>\n",
       "      <td>0.043103</td>\n",
       "    </tr>\n",
       "    <tr>\n",
       "      <th>15</th>\n",
       "      <td>14</td>\n",
       "      <td>1</td>\n",
       "      <td>0.021552</td>\n",
       "    </tr>\n",
       "    <tr>\n",
       "      <th>16</th>\n",
       "      <td>23</td>\n",
       "      <td>1</td>\n",
       "      <td>0.021552</td>\n",
       "    </tr>\n",
       "  </tbody>\n",
       "</table>\n",
       "</div>"
      ],
      "text/plain": [
       "    No of times Contacted  No of Subscribers  % of Subscribers\n",
       "0                       1               2300         49.568966\n",
       "1                       2               1211         26.099138\n",
       "2                       3                574         12.370690\n",
       "3                       4                249          5.366379\n",
       "4                       5                120          2.586207\n",
       "5                       6                 75          1.616379\n",
       "6                       7                 38          0.818966\n",
       "7                       9                 17          0.366379\n",
       "8                       8                 17          0.366379\n",
       "9                      10                 12          0.258621\n",
       "10                     11                 12          0.258621\n",
       "11                     17                  4          0.086207\n",
       "12                     13                  4          0.086207\n",
       "13                     12                  3          0.064655\n",
       "14                     15                  2          0.043103\n",
       "15                     14                  1          0.021552\n",
       "16                     23                  1          0.021552"
      ]
     },
     "execution_count": 144,
     "metadata": {},
     "output_type": "execute_result"
    }
   ],
   "source": [
    "df_cam = subs_data['campaign '].value_counts().rename_axis('No of times Contacted').reset_index(name = 'No of Subscribers')\n",
    "df_cam['% of Subscribers'] = df_cam['No of Subscribers']/sum(df_cam['No of Subscribers'])*100\n",
    "df_cam\n",
    "\n",
    "# Insight 12: 50% of the customers subscribed within 1 contact and 88% of customers subscribed within 3 contacts during the campaign during the campaign for term deposit subscription."
   ]
  },
  {
   "cell_type": "code",
   "execution_count": 145,
   "metadata": {},
   "outputs": [
    {
     "data": {
      "text/plain": [
       "nonexistent    3141\n",
       "success         894\n",
       "failure         605\n",
       "Name: poutcome, dtype: int64"
      ]
     },
     "execution_count": 145,
     "metadata": {},
     "output_type": "execute_result"
    }
   ],
   "source": [
    "subs_data['poutcome'].value_counts()"
   ]
  },
  {
   "cell_type": "code",
   "execution_count": 146,
   "metadata": {},
   "outputs": [],
   "source": [
    "#   emp.var.rate: employment variation rate - quarterly indicator (numeric)\n",
    "#   cons.price.idx: consumer price index - monthly indicator (numeric)     \n",
    "#   cons.conf.idx: consumer confidence index - monthly indicator (numeric)     \n",
    "#   euribor3m: euribor 3 month rate - daily indicator (numeric)\n",
    "#   nr.employed: number of employees - quarterly indicator (numeric)"
   ]
  },
  {
   "cell_type": "code",
   "execution_count": 147,
   "metadata": {},
   "outputs": [],
   "source": [
    "# INDICATORS ANALYTICS"
   ]
  },
  {
   "cell_type": "code",
   "execution_count": 148,
   "metadata": {},
   "outputs": [],
   "source": [
    "def describe_column(dataset, column_name):\n",
    "    return dataset[column_name].describe()"
   ]
  },
  {
   "cell_type": "code",
   "execution_count": 149,
   "metadata": {
    "scrolled": true
   },
   "outputs": [
    {
     "data": {
      "text/plain": [
       "count    4640.000000\n",
       "mean       -1.233448\n",
       "std         1.623626\n",
       "min        -3.400000\n",
       "25%        -1.800000\n",
       "50%        -1.800000\n",
       "75%        -0.100000\n",
       "max         1.400000\n",
       "Name: emp.var.rate, dtype: float64"
      ]
     },
     "execution_count": 149,
     "metadata": {},
     "output_type": "execute_result"
    }
   ],
   "source": [
    "# df['emp.var.rate'].describe()\n",
    "describe_column(subs_data, 'emp.var.rate')"
   ]
  },
  {
   "cell_type": "code",
   "execution_count": 150,
   "metadata": {},
   "outputs": [
    {
     "data": {
      "text/plain": [
       "count    4640.000000\n",
       "mean       93.354386\n",
       "std         0.676644\n",
       "min        92.201000\n",
       "25%        92.893000\n",
       "50%        93.200000\n",
       "75%        93.918000\n",
       "max        94.767000\n",
       "Name: cons.price.idx, dtype: float64"
      ]
     },
     "execution_count": 150,
     "metadata": {},
     "output_type": "execute_result"
    }
   ],
   "source": [
    "subs_data['cons.price.idx'].describe()"
   ]
  },
  {
   "cell_type": "code",
   "execution_count": 151,
   "metadata": {},
   "outputs": [
    {
     "data": {
      "text/plain": [
       "count    4640.000000\n",
       "mean      -39.789784\n",
       "std         6.139668\n",
       "min       -50.800000\n",
       "25%       -46.200000\n",
       "50%       -40.400000\n",
       "75%       -36.100000\n",
       "max       -26.900000\n",
       "Name: cons.conf.idx, dtype: float64"
      ]
     },
     "execution_count": 151,
     "metadata": {},
     "output_type": "execute_result"
    }
   ],
   "source": [
    "subs_data['cons.conf.idx'].describe()"
   ]
  },
  {
   "cell_type": "code",
   "execution_count": 152,
   "metadata": {},
   "outputs": [
    {
     "data": {
      "text/plain": [
       "count    4640.000000\n",
       "mean        2.123135\n",
       "std         1.742598\n",
       "min         0.634000\n",
       "25%         0.849000\n",
       "50%         1.266000\n",
       "75%         4.406000\n",
       "max         5.045000\n",
       "Name: euribor3m, dtype: float64"
      ]
     },
     "execution_count": 152,
     "metadata": {},
     "output_type": "execute_result"
    }
   ],
   "source": [
    "subs_data['euribor3m'].describe()"
   ]
  },
  {
   "cell_type": "code",
   "execution_count": 153,
   "metadata": {},
   "outputs": [
    {
     "data": {
      "text/plain": [
       "count    4640.000000\n",
       "mean     5095.115991\n",
       "std        87.572641\n",
       "min      4963.600000\n",
       "25%      5017.500000\n",
       "50%      5099.100000\n",
       "75%      5191.000000\n",
       "max      5228.100000\n",
       "Name: nr.employed, dtype: float64"
      ]
     },
     "execution_count": 153,
     "metadata": {},
     "output_type": "execute_result"
    }
   ],
   "source": [
    "subs_data['nr.employed'].describe()"
   ]
  },
  {
   "cell_type": "markdown",
   "metadata": {},
   "source": [
    "                                        INSIGHTS SUMMARY\n",
    "Insight 1: 38.8% Subscribers are in the age group of (29 to 39)\n",
    "\n",
    "Insight 2: In the age (60-90), the Leads conversion rate is maximum.\n",
    "\n",
    "Insight 3: In the age (60-90), the Leads conversion rate is 5X as compared to age group (25-55).\n",
    "\n",
    "Insight 4: People in the age range of (30-35) are targeted maximum.\n",
    "\n",
    "Insight 5: People who work in Administration, technician and Blue-collor jobs subscribe to term deposit the most. \n",
    "\n",
    "Insight 6: People who are students, unemployed or housemaid subscribe to term deposit the least. \n",
    "\n",
    "Insight 7: Students, services people and unemployed are easiest to get whereas technician, blue-collar and self employed are difficult to get subscribe. \n",
    "\n",
    "Insight 8: Single people tend to subscribe term deposit the most. \n",
    "\n",
    "Insight 9: Well Educated people who have either University degree or went High school or have enrolled in professional course subscribe term deposits the most\n",
    "\n",
    "Insight 10: All of the Customers who have subscribed term deposit have not defaulted on credit.\n",
    "\n",
    "Insight 11: Approximately half of the customers have a home loan on them.\n",
    "\n",
    "Insight 12: Only 15% of customers have personal loan on them.\n",
    "\n",
    "Insight 13: Average duration per call for customers who subscribe to term deposit is 9.2 minutes, maximum call duration is 70 mins and minimum is 36 sec.\n",
    "\n",
    "Insight 14: 50% of the customers subscribed within 1 contact.\n",
    "\n",
    "Insight 15: 88% of customers subscribed within 3 contacts during the campaign during the campaign for term deposit subscription.\n",
    "\n",
    "\n"
   ]
  },
  {
   "cell_type": "markdown",
   "metadata": {},
   "source": [
    "                                    THANK YOU!"
   ]
  }
 ],
 "metadata": {
  "kernelspec": {
   "display_name": "Python 3",
   "language": "python",
   "name": "python3"
  },
  "language_info": {
   "codemirror_mode": {
    "name": "ipython",
    "version": 3
   },
   "file_extension": ".py",
   "mimetype": "text/x-python",
   "name": "python",
   "nbconvert_exporter": "python",
   "pygments_lexer": "ipython3",
   "version": "3.8.5"
  }
 },
 "nbformat": 4,
 "nbformat_minor": 4
}
